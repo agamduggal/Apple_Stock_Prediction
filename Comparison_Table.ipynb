{
 "cells": [
  {
   "cell_type": "code",
   "execution_count": 1,
   "id": "bb8b8db9-d99b-4f85-984a-a1330d66cf43",
   "metadata": {},
   "outputs": [
    {
     "name": "stdout",
     "output_type": "stream",
     "text": [
      "  Algorithm       RMSE        MAE       MAPE  Epochs\n",
      "0       FCN  14.981425  10.744821  15.851730      50\n",
      "1    ResNet  12.131098  10.133552  18.375470      50\n",
      "2       MLP   6.037062   4.383661   6.852418      50\n",
      "3       GRU   2.738314   1.482065   1.783596      50\n",
      "4       XCM   7.257378   4.825211   6.474122      50\n",
      "5      LSTM   8.057451   4.817258   5.946652      50\n"
     ]
    }
   ],
   "source": [
    "import pandas as pd\n",
    "\n",
    "\n",
    "results = {\n",
    "    'Algorithm': ['FCN', 'ResNet', 'MLP', 'GRU', 'XCM', 'LSTM'],\n",
    "    'RMSE': [14.98142528998443, 12.131098053362678, 6.037061800287061, 2.7383137213317648, 7.257378057008269, 8.057451044678844],\n",
    "    'MAE': [10.744820822089242, 10.133552282107676,4.383660930334767, 1.482065464350515,4.825211171739027, 4.81725783227731],\n",
    "    'MAPE': [15.851730190528327, 18.375470031575087,6.852417928627701, 1.7835959196830606, 6.474122334589833, 5.946652242003822],\n",
    "    'Epochs': [50, 50,25, 50, 50,25],\n",
    "\n",
    "}\n",
    "\n",
    "# Creating a DataFrame\n",
    "df = pd.DataFrame(results)\n",
    "\n",
    "# Display the table\n",
    "print(df)\n"
   ]
  },
  {
   "cell_type": "code",
   "execution_count": null,
   "id": "cef58ab2-115d-4390-8adf-5c968cb22714",
   "metadata": {},
   "outputs": [],
   "source": []
  }
 ],
 "metadata": {
  "kernelspec": {
   "display_name": "Python 3 (ipykernel)",
   "language": "python",
   "name": "python3"
  },
  "language_info": {
   "codemirror_mode": {
    "name": "ipython",
    "version": 3
   },
   "file_extension": ".py",
   "mimetype": "text/x-python",
   "name": "python",
   "nbconvert_exporter": "python",
   "pygments_lexer": "ipython3",
   "version": "3.12.4"
  }
 },
 "nbformat": 4,
 "nbformat_minor": 5
}
