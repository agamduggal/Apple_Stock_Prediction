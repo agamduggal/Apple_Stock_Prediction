{
 "cells": [
  {
   "cell_type": "code",
   "execution_count": 3,
   "id": "e36edbc7-5af0-47d5-afd4-e87e54e771c0",
   "metadata": {},
   "outputs": [
    {
     "name": "stderr",
     "output_type": "stream",
     "text": [
      "ERROR: Invalid requirement: '#'\n"
     ]
    },
    {
     "ename": "ModuleNotFoundError",
     "evalue": "No module named 'kerastuner'",
     "output_type": "error",
     "traceback": [
      "\u001b[1;31m---------------------------------------------------------------------------\u001b[0m",
      "\u001b[1;31mModuleNotFoundError\u001b[0m                       Traceback (most recent call last)",
      "Cell \u001b[1;32mIn[3], line 36\u001b[0m\n\u001b[0;32m     31\u001b[0m X, y \u001b[38;5;241m=\u001b[39m create_dataset(scaled_data, time_steps)\n\u001b[0;32m     35\u001b[0m get_ipython()\u001b[38;5;241m.\u001b[39msystem(\u001b[38;5;124m'\u001b[39m\u001b[38;5;124mpip install keras-tuner  # Install the keras-tuner library\u001b[39m\u001b[38;5;124m'\u001b[39m)\n\u001b[1;32m---> 36\u001b[0m \u001b[38;5;28;01mfrom\u001b[39;00m \u001b[38;5;21;01mkerastuner\u001b[39;00m\u001b[38;5;21;01m.\u001b[39;00m\u001b[38;5;21;01mtuners\u001b[39;00m \u001b[38;5;28;01mimport\u001b[39;00m RandomSearch \u001b[38;5;66;03m# Import the RandomSearch tuner\u001b[39;00m\n\u001b[0;32m     38\u001b[0m \u001b[38;5;66;03m# Define the function to build the model\u001b[39;00m\n\u001b[0;32m     39\u001b[0m \u001b[38;5;28;01mdef\u001b[39;00m \u001b[38;5;21mbuild_model\u001b[39m(hp):\n",
      "\u001b[1;31mModuleNotFoundError\u001b[0m: No module named 'kerastuner'"
     ]
    }
   ],
   "source": [
    "import numpy as np\n",
    "import pandas as pd\n",
    "from sklearn.preprocessing import MinMaxScaler\n",
    "from sklearn.metrics import mean_squared_error, mean_absolute_error\n",
    "import matplotlib.pyplot as plt\n",
    "from tensorflow.keras.models import Sequential\n",
    "from tensorflow.keras.layers import LSTM, Dense, Dropout\n",
    "\n",
    "     \n",
    "\n",
    "\n",
    "# Load the dataset\n",
    "df = pd.read_csv('C:/Users/dugga/OneDrive/Desktop/ML1/ML/data/AAPL.csv')  # Assuming this is the correct path to your data file\n",
    "\n",
    "# Let's assume 'Close' is the target variable for prediction\n",
    "df = df[['Close']]\n",
    "\n",
    "# Normalization of data\n",
    "scaler = MinMaxScaler()\n",
    "scaled_data = scaler.fit_transform(df)\n",
    "\n",
    "# Preparing the dataset\n",
    "def create_dataset(data, time_steps=1):\n",
    "    X, y = [], []\n",
    "    for i in range(len(data) - time_steps - 1):\n",
    "        X.append(data[i:(i + time_steps), :])\n",
    "        y.append(data[i + time_steps, 0])  # Assuming the first column is the target\n",
    "    return np.array(X), np.array(y)\n",
    "\n",
    "time_steps = 10\n",
    "X, y = create_dataset(scaled_data, time_steps)\n",
    "\n",
    "     \n",
    "\n",
    "!pip install keras-tuner  # Install the keras-tuner library\n",
    "from kerastuner.tuners import RandomSearch # Import the RandomSearch tuner\n",
    "\n",
    "# Define the function to build the model\n",
    "def build_model(hp):\n",
    "    model = Sequential()\n",
    "    model.add(LSTM(units=hp.Int('units', min_value=32, max_value=128, step=32),\n",
    "                   input_shape=(X_train.shape[1], X_train.shape[2])))\n",
    "    model.add(Dropout(rate=hp.Float('dropout', min_value=0.0, max_value=0.5, step=0.1)))\n",
    "    model.add(Dense(1)) # Assuming a single output neuron for regression\n",
    "    model.compile(optimizer='adam', loss='mse') # Assuming mean squared error as the loss\n",
    "    return model\n",
    "\n",
    "# Assuming X_train and y_train are already defined from a previous step\n",
    "tuner = RandomSearch(\n",
    "    build_model,  # Pass the function reference\n",
    "    objective='val_loss',\n",
    "    max_trials=10,\n",
    "    executions_per_trial=3,\n",
    "    directory='my_dir',\n",
    "    project_name='helloworld')\n",
    "\n",
    "tuner.search(X_train, y_train, epochs=50, validation_split=0.1)"
   ]
  },
  {
   "cell_type": "code",
   "execution_count": null,
   "id": "4589c9f4-fabc-44a1-83ee-80ce84243773",
   "metadata": {},
   "outputs": [],
   "source": []
  }
 ],
 "metadata": {
  "kernelspec": {
   "display_name": "Python 3 (ipykernel)",
   "language": "python",
   "name": "python3"
  },
  "language_info": {
   "codemirror_mode": {
    "name": "ipython",
    "version": 3
   },
   "file_extension": ".py",
   "mimetype": "text/x-python",
   "name": "python",
   "nbconvert_exporter": "python",
   "pygments_lexer": "ipython3",
   "version": "3.12.4"
  }
 },
 "nbformat": 4,
 "nbformat_minor": 5
}
